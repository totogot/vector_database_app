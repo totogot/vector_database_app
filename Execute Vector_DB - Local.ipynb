{
 "cells": [
  {
   "cell_type": "code",
   "execution_count": 7,
   "id": "e40ceb30",
   "metadata": {},
   "outputs": [],
   "source": [
    "import json\n",
    "import base64\n",
    "from PIL import Image\n",
    "from rag_search.vector_db import VectorDatabase"
   ]
  },
  {
   "cell_type": "code",
   "execution_count": null,
   "id": "21a6b8bb",
   "metadata": {},
   "outputs": [],
   "source": [
    "#### LOAD API KEYS\n",
    "with open(\"../keys/huggingface_key.txt\",\"r\") as f:\n",
    "    huggingface_key = f.read()\n",
    "\n",
    "with open(\"../keys/mvp_projects_key.txt\",\"r\") as f:\n",
    "    openai_key = f.read()"
   ]
  },
  {
   "cell_type": "code",
   "execution_count": null,
   "id": "a995aebc",
   "metadata": {},
   "outputs": [],
   "source": [
    "#### INITIATE VECTOR CLASS\n",
    "vec = VectorDatabase(\n",
    "    text_embedding_model = \"local-bge-base-en\",\n",
    "    image_embedding_model = \"local-clip-vit-base-patch32\",\n",
    "    response_model = \"local-mistral-3\",\n",
    "    captioning_model = \"local-blip-2\",\n",
    "    huggingface_key = huggingface_key,\n",
    "    save_dir = \"custom_db_path\" # assign to default save directory\n",
    "    )"
   ]
  },
  {
   "cell_type": "code",
   "execution_count": null,
   "id": "0aad033a",
   "metadata": {},
   "outputs": [],
   "source": [
    "#### VECTORIZE ALL FILES IN FOLDER\n",
    "vec.vectorize_folder(folder_path = 'rag_search/data')"
   ]
  },
  {
   "cell_type": "code",
   "execution_count": null,
   "id": "fd6aa0dc",
   "metadata": {},
   "outputs": [],
   "source": [
    "#### SEARCH FOR RESPONSE\n",
    "query = {\n",
    "    \"text\": \"How has Microsoft's revenue grown in recent years?\"\n",
    "    }\n",
    "\n",
    "response = vec.run_search(\n",
    "    search_content = query, \n",
    "    search_location = None # WHOLE DATABASE\n",
    ")\n",
    "\n",
    "print(json.dumps(response, indent=2))"
   ]
  },
  {
   "cell_type": "code",
   "execution_count": null,
   "id": "ed6bb0b4",
   "metadata": {},
   "outputs": [],
   "source": [
    "#### SEARCH FOR RESPONSE - SPECIFIC FOLDER\n",
    "query = {\n",
    "    \"text\": \"What is the company's strategy on returning value to shareholders?\"\n",
    "    }\n",
    "\n",
    "response = vec.run_search(\n",
    "    search_content = query, \n",
    "    search_location = \"rag_search/data/Microsoft_FY25Q3_PressRelease.pdf\" # SPECIFIC FILE\n",
    ")\n",
    "\n",
    "print(json.dumps(response, indent=2))"
   ]
  },
  {
   "cell_type": "code",
   "execution_count": null,
   "id": "525305fb",
   "metadata": {},
   "outputs": [],
   "source": [
    "#### SEARCH FOR RESPONSE\n",
    "query = {\n",
    "    \"text\": \"What are the key product pillars of Microsoft's business model?\"\n",
    "    }\n",
    "\n",
    "response = vec.run_search(\n",
    "    search_content = query, \n",
    "    search_location = \"rag_search/data\" # SPECIFIC FOLDER (in this case, same as whole database as one folder only)\n",
    "    )\n",
    "\n",
    "print(json.dumps(response, indent=2))"
   ]
  },
  {
   "cell_type": "code",
   "execution_count": null,
   "id": "6dafe796",
   "metadata": {},
   "outputs": [],
   "source": [
    "img = Image.open(\"./example_graph.png\")\n",
    "img"
   ]
  },
  {
   "cell_type": "code",
   "execution_count": null,
   "id": "9cecfa7d",
   "metadata": {},
   "outputs": [],
   "source": [
    "#### SEARCH FOR IMAGE\n",
    "with open(\"./example_graph.png\", \"rb\") as image_file:\n",
    "    base64_image = base64.b64encode(image_file.read()).decode(\"utf-8\")\n",
    "    \n",
    "query = {\n",
    "    \"text\": \"What drove this trend?\",\n",
    "    \"image\": [base64_image]\n",
    "    }\n",
    "\n",
    "response = vec.run_search(\n",
    "    search_content = query, \n",
    "    search_location = None\n",
    ")\n",
    "\n",
    "print(json.dumps(response, indent=2))"
   ]
  }
 ],
 "metadata": {
  "kernelspec": {
   "display_name": ".venv",
   "language": "python",
   "name": "python3"
  },
  "language_info": {
   "codemirror_mode": {
    "name": "ipython",
    "version": 3
   },
   "file_extension": ".py",
   "mimetype": "text/x-python",
   "name": "python",
   "nbconvert_exporter": "python",
   "pygments_lexer": "ipython3",
   "version": "3.10.0"
  }
 },
 "nbformat": 4,
 "nbformat_minor": 5
}
